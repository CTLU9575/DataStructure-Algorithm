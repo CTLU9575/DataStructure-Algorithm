{
 "cells": [
  {
   "cell_type": "markdown",
   "metadata": {},
   "source": [
    "#### 1.Leetcode第70题，爬楼梯\n",
    "三种解法：\\\n",
    "\\\n",
    "1.普通的递归\\\n",
    "2.带一个hashmap的递归，python不会写\\\n",
    "3.循环的方式，斐波那契数列"
   ]
  },
  {
   "cell_type": "code",
   "execution_count": null,
   "metadata": {},
   "outputs": [],
   "source": [
    "# 70.1 普通的递归，超出时间限制\n",
    "# 递归的算法分析方法！！！\n",
    "\n",
    "class Solution:\n",
    "    def climbStairs(self, n: int) -> int:\n",
    "        if n == 1:\n",
    "            return 1\n",
    "        elif n==2:\n",
    "            return 2\n",
    "        else:\n",
    "            return self.climbStairs(n-1) + self.climbStairs(n-2)"
   ]
  },
  {
   "cell_type": "code",
   "execution_count": 2,
   "metadata": {},
   "outputs": [],
   "source": [
    "# how to use hash_map in python!!!\n",
    "# 70.2 hash_map的方式(感觉不是)，用了dict，hash_map的递归\n",
    "# 执行用时：32 ms, 在所有 Python3 提交中击败了82.75%的用户\n",
    "# 内存消耗：14.7 MB, 在所有 Python3 提交中击败了97.16%的用户\n",
    "\n",
    "class Solution:\n",
    "    def climbStairs(self, n: int) -> int:\n",
    "        hash_map = {}\n",
    "        hash_map[1] = 1\n",
    "        hash_map[2] = 2\n",
    "        for i in range(3, n+1):\n",
    "            hash_map[i] = hash_map[i-1]+hash_map[i-2]\n",
    "        return hash_map[n]"
   ]
  },
  {
   "cell_type": "code",
   "execution_count": null,
   "metadata": {},
   "outputs": [],
   "source": [
    "# 70.3 循环，自底向上累加\n",
    "# 执行用时：32 ms, 在所有 Python3 提交中击败了82.75%的用户\n",
    "# 内存消耗：14.9 MB, 在所有 Python3 提交中击败了33.43%的用户\n",
    "\n",
    "class Solution:\n",
    "    def climbStairs(self, n: int) -> int:\n",
    "        pre, current = 0, 1\n",
    "        for i in range(n):\n",
    "            current, pre = current + pre, current\n",
    "        return current"
   ]
  },
  {
   "cell_type": "code",
   "execution_count": 1,
   "metadata": {},
   "outputs": [],
   "source": [
    "# 剑指offer第10题 斐波那契数列"
   ]
  },
  {
   "cell_type": "markdown",
   "metadata": {},
   "source": []
  },
  {
   "cell_type": "code",
   "execution_count": 2,
   "metadata": {},
   "outputs": [
    {
     "ename": "NameError",
     "evalue": "name 'List' is not defined",
     "output_type": "error",
     "traceback": [
      "\u001b[0;31m---------------------------------------------------------------------------\u001b[0m",
      "\u001b[0;31mNameError\u001b[0m                                 Traceback (most recent call last)",
      "\u001b[0;32m<ipython-input-2-736ad756738b>\u001b[0m in \u001b[0;36m<module>\u001b[0;34m\u001b[0m\n\u001b[1;32m      3\u001b[0m \u001b[0;31m# 内存消耗：15.5 MB, 在所有 Python3 提交中击败了77.52%的用户\u001b[0m\u001b[0;34m\u001b[0m\u001b[0;34m\u001b[0m\u001b[0;34m\u001b[0m\u001b[0m\n\u001b[1;32m      4\u001b[0m \u001b[0;34m\u001b[0m\u001b[0m\n\u001b[0;32m----> 5\u001b[0;31m \u001b[0;32mclass\u001b[0m \u001b[0mSolution\u001b[0m\u001b[0;34m:\u001b[0m\u001b[0;34m\u001b[0m\u001b[0;34m\u001b[0m\u001b[0m\n\u001b[0m\u001b[1;32m      6\u001b[0m     \u001b[0;32mdef\u001b[0m \u001b[0mtwoSum\u001b[0m\u001b[0;34m(\u001b[0m\u001b[0mself\u001b[0m\u001b[0;34m,\u001b[0m \u001b[0mnums\u001b[0m\u001b[0;34m:\u001b[0m \u001b[0mList\u001b[0m\u001b[0;34m[\u001b[0m\u001b[0mint\u001b[0m\u001b[0;34m]\u001b[0m\u001b[0;34m,\u001b[0m \u001b[0mtarget\u001b[0m\u001b[0;34m:\u001b[0m \u001b[0mint\u001b[0m\u001b[0;34m)\u001b[0m \u001b[0;34m->\u001b[0m \u001b[0mList\u001b[0m\u001b[0;34m[\u001b[0m\u001b[0mint\u001b[0m\u001b[0;34m]\u001b[0m\u001b[0;34m:\u001b[0m\u001b[0;34m\u001b[0m\u001b[0;34m\u001b[0m\u001b[0m\n\u001b[1;32m      7\u001b[0m         \u001b[0;32mfor\u001b[0m \u001b[0mi\u001b[0m \u001b[0;32min\u001b[0m \u001b[0mrange\u001b[0m\u001b[0;34m(\u001b[0m\u001b[0mlen\u001b[0m\u001b[0;34m(\u001b[0m\u001b[0mnums\u001b[0m\u001b[0;34m)\u001b[0m\u001b[0;34m-\u001b[0m\u001b[0;36m1\u001b[0m\u001b[0;34m)\u001b[0m\u001b[0;34m:\u001b[0m\u001b[0;34m\u001b[0m\u001b[0;34m\u001b[0m\u001b[0m\n",
      "\u001b[0;32m<ipython-input-2-736ad756738b>\u001b[0m in \u001b[0;36mSolution\u001b[0;34m()\u001b[0m\n\u001b[1;32m      4\u001b[0m \u001b[0;34m\u001b[0m\u001b[0m\n\u001b[1;32m      5\u001b[0m \u001b[0;32mclass\u001b[0m \u001b[0mSolution\u001b[0m\u001b[0;34m:\u001b[0m\u001b[0;34m\u001b[0m\u001b[0;34m\u001b[0m\u001b[0m\n\u001b[0;32m----> 6\u001b[0;31m     \u001b[0;32mdef\u001b[0m \u001b[0mtwoSum\u001b[0m\u001b[0;34m(\u001b[0m\u001b[0mself\u001b[0m\u001b[0;34m,\u001b[0m \u001b[0mnums\u001b[0m\u001b[0;34m:\u001b[0m \u001b[0mList\u001b[0m\u001b[0;34m[\u001b[0m\u001b[0mint\u001b[0m\u001b[0;34m]\u001b[0m\u001b[0;34m,\u001b[0m \u001b[0mtarget\u001b[0m\u001b[0;34m:\u001b[0m \u001b[0mint\u001b[0m\u001b[0;34m)\u001b[0m \u001b[0;34m->\u001b[0m \u001b[0mList\u001b[0m\u001b[0;34m[\u001b[0m\u001b[0mint\u001b[0m\u001b[0;34m]\u001b[0m\u001b[0;34m:\u001b[0m\u001b[0;34m\u001b[0m\u001b[0;34m\u001b[0m\u001b[0m\n\u001b[0m\u001b[1;32m      7\u001b[0m         \u001b[0;32mfor\u001b[0m \u001b[0mi\u001b[0m \u001b[0;32min\u001b[0m \u001b[0mrange\u001b[0m\u001b[0;34m(\u001b[0m\u001b[0mlen\u001b[0m\u001b[0;34m(\u001b[0m\u001b[0mnums\u001b[0m\u001b[0;34m)\u001b[0m\u001b[0;34m-\u001b[0m\u001b[0;36m1\u001b[0m\u001b[0;34m)\u001b[0m\u001b[0;34m:\u001b[0m\u001b[0;34m\u001b[0m\u001b[0;34m\u001b[0m\u001b[0m\n\u001b[1;32m      8\u001b[0m             \u001b[0;32mfor\u001b[0m \u001b[0mj\u001b[0m \u001b[0;32min\u001b[0m \u001b[0mrange\u001b[0m\u001b[0;34m(\u001b[0m\u001b[0mi\u001b[0m\u001b[0;34m+\u001b[0m\u001b[0;36m1\u001b[0m\u001b[0;34m,\u001b[0m \u001b[0mlen\u001b[0m\u001b[0;34m(\u001b[0m\u001b[0mnums\u001b[0m\u001b[0;34m)\u001b[0m\u001b[0;34m)\u001b[0m\u001b[0;34m:\u001b[0m\u001b[0;34m\u001b[0m\u001b[0;34m\u001b[0m\u001b[0m\n",
      "\u001b[0;31mNameError\u001b[0m: name 'List' is not defined"
     ]
    }
   ],
   "source": [
    "# Leetcode 1.1 两数之和，穷举法\n",
    "# 执行用时：3140 ms, 在所有 Python3 提交中击败了24.97%的用户\n",
    "# 内存消耗：15.5 MB, 在所有 Python3 提交中击败了77.52%的用户\n",
    "# 时间复杂度O(n^2)\n",
    "\n",
    "class Solution:\n",
    "    def twoSum(self, nums: List[int], target: int) -> List[int]:\n",
    "        for i in range(len(nums)-1):\n",
    "            for j in range(i+1, len(nums)):\n",
    "                if nums[i]+nums[j] == target:\n",
    "                    return [i, j]\n",
    "                else:\n",
    "                    continue\n",
    "        return [0, 0]"
   ]
  },
  {
   "cell_type": "code",
   "execution_count": 3,
   "metadata": {},
   "outputs": [
    {
     "ename": "NameError",
     "evalue": "name 'List' is not defined",
     "output_type": "error",
     "traceback": [
      "\u001b[0;31m---------------------------------------------------------------------------\u001b[0m",
      "\u001b[0;31mNameError\u001b[0m                                 Traceback (most recent call last)",
      "\u001b[0;32m<ipython-input-3-3c839d8c997e>\u001b[0m in \u001b[0;36m<module>\u001b[0;34m\u001b[0m\n\u001b[1;32m      3\u001b[0m \u001b[0;31m# 内存消耗：15.9 MB, 在所有 Python3 提交中击败了40.93%的用户\u001b[0m\u001b[0;34m\u001b[0m\u001b[0;34m\u001b[0m\u001b[0;34m\u001b[0m\u001b[0m\n\u001b[1;32m      4\u001b[0m \u001b[0;34m\u001b[0m\u001b[0m\n\u001b[0;32m----> 5\u001b[0;31m \u001b[0;32mclass\u001b[0m \u001b[0mSolution\u001b[0m\u001b[0;34m:\u001b[0m\u001b[0;34m\u001b[0m\u001b[0;34m\u001b[0m\u001b[0m\n\u001b[0m\u001b[1;32m      6\u001b[0m     \u001b[0;32mdef\u001b[0m \u001b[0mtwoSum\u001b[0m\u001b[0;34m(\u001b[0m\u001b[0mself\u001b[0m\u001b[0;34m,\u001b[0m \u001b[0mnums\u001b[0m\u001b[0;34m:\u001b[0m \u001b[0mList\u001b[0m\u001b[0;34m[\u001b[0m\u001b[0mint\u001b[0m\u001b[0;34m]\u001b[0m\u001b[0;34m,\u001b[0m \u001b[0mtarget\u001b[0m\u001b[0;34m:\u001b[0m \u001b[0mint\u001b[0m\u001b[0;34m)\u001b[0m \u001b[0;34m->\u001b[0m \u001b[0mList\u001b[0m\u001b[0;34m[\u001b[0m\u001b[0mint\u001b[0m\u001b[0;34m]\u001b[0m\u001b[0;34m:\u001b[0m\u001b[0;34m\u001b[0m\u001b[0;34m\u001b[0m\u001b[0m\n\u001b[1;32m      7\u001b[0m         \u001b[0mhash_map\u001b[0m \u001b[0;34m=\u001b[0m \u001b[0;34m{\u001b[0m\u001b[0;34m}\u001b[0m\u001b[0;34m\u001b[0m\u001b[0;34m\u001b[0m\u001b[0m\n",
      "\u001b[0;32m<ipython-input-3-3c839d8c997e>\u001b[0m in \u001b[0;36mSolution\u001b[0;34m()\u001b[0m\n\u001b[1;32m      4\u001b[0m \u001b[0;34m\u001b[0m\u001b[0m\n\u001b[1;32m      5\u001b[0m \u001b[0;32mclass\u001b[0m \u001b[0mSolution\u001b[0m\u001b[0;34m:\u001b[0m\u001b[0;34m\u001b[0m\u001b[0;34m\u001b[0m\u001b[0m\n\u001b[0;32m----> 6\u001b[0;31m     \u001b[0;32mdef\u001b[0m \u001b[0mtwoSum\u001b[0m\u001b[0;34m(\u001b[0m\u001b[0mself\u001b[0m\u001b[0;34m,\u001b[0m \u001b[0mnums\u001b[0m\u001b[0;34m:\u001b[0m \u001b[0mList\u001b[0m\u001b[0;34m[\u001b[0m\u001b[0mint\u001b[0m\u001b[0;34m]\u001b[0m\u001b[0;34m,\u001b[0m \u001b[0mtarget\u001b[0m\u001b[0;34m:\u001b[0m \u001b[0mint\u001b[0m\u001b[0;34m)\u001b[0m \u001b[0;34m->\u001b[0m \u001b[0mList\u001b[0m\u001b[0;34m[\u001b[0m\u001b[0mint\u001b[0m\u001b[0;34m]\u001b[0m\u001b[0;34m:\u001b[0m\u001b[0;34m\u001b[0m\u001b[0;34m\u001b[0m\u001b[0m\n\u001b[0m\u001b[1;32m      7\u001b[0m         \u001b[0mhash_map\u001b[0m \u001b[0;34m=\u001b[0m \u001b[0;34m{\u001b[0m\u001b[0;34m}\u001b[0m\u001b[0;34m\u001b[0m\u001b[0;34m\u001b[0m\u001b[0m\n\u001b[1;32m      8\u001b[0m         \u001b[0;32mfor\u001b[0m \u001b[0mi\u001b[0m \u001b[0;32min\u001b[0m \u001b[0mrange\u001b[0m\u001b[0;34m(\u001b[0m\u001b[0mlen\u001b[0m\u001b[0;34m(\u001b[0m\u001b[0mnums\u001b[0m\u001b[0;34m)\u001b[0m\u001b[0;34m)\u001b[0m\u001b[0;34m:\u001b[0m\u001b[0;34m\u001b[0m\u001b[0;34m\u001b[0m\u001b[0m\n",
      "\u001b[0;31mNameError\u001b[0m: name 'List' is not defined"
     ]
    }
   ],
   "source": [
    "# Leetcode 1.2 两数之和，使用了hashmap\n",
    "# 执行用时：44 ms, 在所有 Python3 提交中击败了60.57%的用户\n",
    "# 内存消耗：15.9 MB, 在所有 Python3 提交中击败了40.93%的用户\n",
    "# 时间复杂度O(n)\n",
    "\n",
    "class Solution:\n",
    "    def twoSum(self, nums: List[int], target: int) -> List[int]:\n",
    "        hash_map = {}\n",
    "        for i in range(len(nums)):\n",
    "            if target - nums[i] in hash_map.keys():\n",
    "                return [i, hash_map[target - nums[i]]]\n",
    "            else:\n",
    "                hash_map[nums[i]] = i"
   ]
  },
  {
   "cell_type": "code",
   "execution_count": null,
   "metadata": {},
   "outputs": [],
   "source": [
    "# Leetcode 88.1 合并有序数组，使用了内置函数,对nums1的赋值的写法表示不理解？？？\n",
    "# 执行用时：36 ms, 在所有 Python3 提交中击败了66.92%的用户\n",
    "# 内存消耗：14.8 MB, 在所有 Python3 提交中击败了97.47%的用户\n",
    "# # 时间复杂度O(m+n)log(m+n)，快速排序\n",
    "\n",
    "class Solution:\n",
    "    def merge(self, nums1: List[int], m: int, nums2: List[int], n: int) -> None:\n",
    "        \"\"\"\n",
    "        Do not return anything, modify nums1 in-place instead.\n",
    "        \"\"\"\n",
    "        nums1[m:] = nums2\n",
    "        nums1.sort()\n",
    "\n",
    "class Solution:\n",
    "    def merge(self, nums1: List[int], m: int, nums2: List[int], n: int) -> None:\n",
    "        \"\"\"\n",
    "        Do not return anything, modify nums1 in-place instead.\n",
    "        \"\"\"\n",
    "        nums1[:] = nums1[:m] + nums2\n",
    "        nums1.sort()"
   ]
  },
  {
   "cell_type": "code",
   "execution_count": null,
   "metadata": {},
   "outputs": [],
   "source": [
    "# Leetcode 88.2 合并有序数组，双指针\n",
    "# 执行用时：32 ms, 在所有 Python3 提交中击败了86.69%的用户\n",
    "# 内存消耗：14.8 MB, 在所有 Python3 提交中击败了93.61%的用户\n",
    "# 时间复杂度O(m+n), 空间复杂度O(m+n)\n",
    "\n",
    "class Solution:\n",
    "    def merge(self, nums1: List[int], m: int, nums2: List[int], n: int) -> None:\n",
    "        \"\"\"\n",
    "        Do not return anything, modify nums1 in-place instead.\n",
    "        \"\"\"\n",
    "        i = 0\n",
    "        j = 0\n",
    "        temp = []\n",
    "        while i < m or j < n:\n",
    "            if i >= m:\n",
    "                temp.append(nums2[j])\n",
    "                j+=1\n",
    "            elif j >= n:\n",
    "                temp.append(nums1[i])\n",
    "                i+=1\n",
    "            elif nums1[i] < nums2[j]:\n",
    "                temp.append(nums1[i])\n",
    "                i +=1\n",
    "            else:\n",
    "                temp.append(nums2[j])\n",
    "                j+=1\n",
    "        nums1[:] = temp"
   ]
  },
  {
   "cell_type": "code",
   "execution_count": null,
   "metadata": {},
   "outputs": [],
   "source": [
    "# Leetcode 88.3 合并有序数组，双指针，不开辟临时数组\n",
    "# 执行用时：32 ms, 在所有 Python3 提交中击败了86.69%的用户\n",
    "# 内存消耗：14.9 MB, 在所有 Python3 提交中击败了63.86%的用户\n",
    "# 时间复杂度O(m+n), 空间复杂度O(1)\n",
    "\n",
    "class Solution:\n",
    "    def merge(self, nums1: List[int], m: int, nums2: List[int], n: int) -> None:\n",
    "        i = m-1\n",
    "        j = n-1\n",
    "        while j >= 0:\n",
    "            if i+1 == 0 or nums2[j] >= nums1[i]:\n",
    "                nums1[i+j+1] = nums2[j]\n",
    "                j-=1\n",
    "            else:\n",
    "                nums1[i+j+1] = nums1[i]\n",
    "                i-=1"
   ]
  },
  {
   "cell_type": "code",
   "execution_count": null,
   "metadata": {},
   "outputs": [],
   "source": [
    "# Leetcode 283 移动零，双指针，不开辟临时数组\n",
    "# 执行用时：52 ms, 在所有 Python3 提交中击败了60.14%的用户\n",
    "# 内存消耗：15.9 MB, 在所有 Python3 提交中击败了28.70%的用户\n",
    "# 时间复杂度O(n), 空间复杂度O(1)\n",
    "\n",
    "class Solution:\n",
    "    def moveZeroes(self, nums: List[int]) -> None:\n",
    "        \"\"\"\n",
    "        Do not return anything, modify nums in-place instead.\n",
    "        \"\"\"\n",
    "        p1 = 0\n",
    "        p2 = 0\n",
    "        while p1 < len(nums):\n",
    "            if nums[p1] != 0:\n",
    "                nums[p2] = nums[p1]\n",
    "                p1 += 1\n",
    "                p2 += 1\n",
    "            else:\n",
    "                p1 += 1\n",
    "        while p2 < len(nums):\n",
    "            nums[p2] = 0\n",
    "            p2 += 1"
   ]
  },
  {
   "cell_type": "code",
   "execution_count": null,
   "metadata": {},
   "outputs": [],
   "source": [
    "# Leetcode 448 找到数组中所有消失的数字\n",
    "# 执行用时：92 ms, 在所有 Python3 提交中击败了45.23%的用户， 71.58\n",
    "# 内存消耗：21.1 MB, 在所有 Python3 提交中击败了77.11%的用户，78.13\n",
    "# 时间复杂度O(n), 空间复杂度O(1)\n",
    "\n",
    "# enumerate:可以用来返回list的索引和值 和 [(表达式) for index, value in enumerate(list_type) if (条件)]\n",
    "\n",
    "class Solution:\n",
    "    def findDisappearedNumbers(self, nums: List[int]) -> List[int]:\n",
    "        result = []\n",
    "        n = len(nums)\n",
    "        for i in range(n):\n",
    "            nums[(nums[i]-1) % n] += n\n",
    "        for i in range(n):\n",
    "            if nums[i] < n+1:\n",
    "                result.append(i + 1)\n",
    "        return result\n",
    "\n",
    "# 官方解：enumerate，多用了几个变量！！\n",
    "class Solution:\n",
    "    def findDisappearedNumbers(self, nums: List[int]) -> List[int]:\n",
    "        n = len(nums)\n",
    "        for num in nums:\n",
    "            x = (num - 1) % n\n",
    "            nums[x] += n\n",
    "        \n",
    "        ret = [i + 1 for i, num in enumerate(nums) if num <= n]\n",
    "        return ret"
   ]
  },
  {
   "cell_type": "markdown",
   "metadata": {},
   "source": [
    "#### part 2 链表部分"
   ]
  },
  {
   "cell_type": "code",
   "execution_count": null,
   "metadata": {},
   "outputs": [],
   "source": [
    "# Leetcode 21.1 合并2个有序链表，类似双指针的方法，链表属实没搞明白..\n",
    "# 执行用时：40 ms, 在所有 Python3 提交中击败了62.86%的用户\n",
    "# 内存消耗：15 MB, 在所有 Python3 提交中击败了40.39%的用户\n",
    "# 时间复杂度O(m+n), 空间复杂度O(1)\n",
    "\n",
    "\n",
    "# Definition for singly-linked list.\n",
    "# class ListNode:\n",
    "#     def __init__(self, val=0, next=None):\n",
    "#         self.val = val\n",
    "#         self.next = next\n",
    "class Solution:\n",
    "    def mergeTwoLists(self, list1: Optional[ListNode], list2: Optional[ListNode]) -> Optional[ListNode]:\n",
    "        result = dummy = ListNode(0)\n",
    "        \n",
    "        while list1 and list2:\n",
    "            if list1.val < list2.val:\n",
    "                dummy.next = list1\n",
    "                list1 = list1.next\n",
    "            else:\n",
    "                dummy.next = list2\n",
    "                list2 = list2.next\n",
    "            dummy = dummy.next\n",
    "        if list1:\n",
    "            dummy.next = list1\n",
    "        if list2:\n",
    "            dummy.next = list2\n",
    "        \n",
    "        return result.next"
   ]
  },
  {
   "cell_type": "code",
   "execution_count": null,
   "metadata": {},
   "outputs": [],
   "source": [
    "# Leetcode 21.1 合并2个有序链表，递归的方法，官方解答，搞的不太明白\n",
    "# 执行用时：44 ms, 在所有 Python3 提交中击败了36.39%的用户\n",
    "# 内存消耗：15 MB, 在所有 Python3 提交中击败了23.85%的用户\n",
    "# 时间复杂度O(m+n), 空间复杂度O(m+n)\n",
    "\n",
    "class Solution:\n",
    "    def mergeTwoLists(self, l1: ListNode, l2: ListNode) -> ListNode:\n",
    "        if l1 is None:\n",
    "            return l2\n",
    "        elif l2 is None:\n",
    "            return l1\n",
    "        elif l1.val < l2.val:\n",
    "            l1.next = self.mergeTwoLists(l1.next, l2)\n",
    "            return l1\n",
    "        else:\n",
    "            l2.next = self.mergeTwoLists(l1, l2.next)\n",
    "            return l2"
   ]
  },
  {
   "cell_type": "code",
   "execution_count": null,
   "metadata": {},
   "outputs": [],
   "source": [
    "# Leetcode 83.1 删除链表中的重复元素\n",
    "# 执行用时：48 ms, 在所有 Python3 提交中击败了35.40%的用户\n",
    "# 内存消耗：15 MB, 在所有 Python3 提交中击败了44.86%的用户\n",
    "# 时间复杂度O(n), 空间复杂度O(1)\n",
    "\n",
    "# if not current or not current.next: return head: 这句话很重要！！不然老显示什么nonetype error\n",
    "\n",
    "class Solution:\n",
    "    def deleteDuplicates(self, head: ListNode) -> ListNode:\n",
    "        current = head\n",
    "        if not current or not current.next:\n",
    "            return head\n",
    "        while current.next:\n",
    "            if current.val == current.next.val:\n",
    "                current.next = current.next.next\n",
    "            else:\n",
    "                current = current.next\n",
    "        return head"
   ]
  },
  {
   "cell_type": "code",
   "execution_count": null,
   "metadata": {},
   "outputs": [],
   "source": [
    "# Leetcode 83.1 删除链表中的重复元素, 递归的方法，又被递归搞懵了\n",
    "# 执行用时：52 ms, 在所有 Python3 提交中击败了14.61%的用户\n",
    "# 内存消耗：14.9 MB, 在所有 Python3 提交中击败了90.78%的用户\n",
    "# 时间复杂度O(n)\n",
    "\n",
    "class Solution:\n",
    "    def deleteDuplicates(self, head: ListNode) -> ListNode:\n",
    "        if not head or not head.next: return head\n",
    "        head.next = self.deleteDuplicates(head.next)\n",
    "        return head.next if head.val == head.next.val else head"
   ]
  }
 ],
 "metadata": {
  "kernelspec": {
   "display_name": "Python 3",
   "language": "python",
   "name": "python3"
  },
  "language_info": {
   "codemirror_mode": {
    "name": "ipython",
    "version": 3
   },
   "file_extension": ".py",
   "mimetype": "text/x-python",
   "name": "python",
   "nbconvert_exporter": "python",
   "pygments_lexer": "ipython3",
   "version": "3.8.5"
  }
 },
 "nbformat": 4,
 "nbformat_minor": 4
}

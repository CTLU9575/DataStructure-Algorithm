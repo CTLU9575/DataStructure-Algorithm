{
 "cells": [
  {
   "cell_type": "code",
   "execution_count": 1,
   "metadata": {},
   "outputs": [],
   "source": [
    "# 70.1 普通的递归，超出时间限制\n",
    "class Solution:\n",
    "    def climbStairs(self, n: int) -> int:\n",
    "        if n == 1:\n",
    "            return 1\n",
    "        elif n==2:\n",
    "            return 2\n",
    "        else:\n",
    "            return self.climbStairs(n-1) + self.climbStairs(n-2)"
   ]
  },
  {
   "cell_type": "code",
   "execution_count": 2,
   "metadata": {},
   "outputs": [],
   "source": [
    "# how to use hash_map !!!\n",
    "# 70.2 hash_map的方式(感觉不是)，用了dict\n",
    "# 执行用时：32 ms, 在所有 Python3 提交中击败了82.75%的用户\n",
    "# 内存消耗：14.7 MB, 在所有 Python3 提交中击败了97.16%的用户\n",
    "\n",
    "class Solution:\n",
    "    def climbStairs(self, n: int) -> int:\n",
    "        hash_map = {}\n",
    "        hash_map[1] = 1\n",
    "        hash_map[2] = 2\n",
    "        for i in range(3, n+1):\n",
    "            hash_map[i] = hash_map[i-1]+hash_map[i-2]\n",
    "        return hash_map[n]"
   ]
  },
  {
   "cell_type": "code",
   "execution_count": null,
   "metadata": {},
   "outputs": [],
   "source": [
    "# 70.3 循环，自底向上累加\n",
    "# 执行用时：32 ms, 在所有 Python3 提交中击败了82.75%的用户\n",
    "# 内存消耗：14.9 MB, 在所有 Python3 提交中击败了33.43%的用户\n",
    "\n",
    "class Solution:\n",
    "    def climbStairs(self, n: int) -> int:\n",
    "        pre, current = 0, 1\n",
    "        for i in range(n):\n",
    "            current, pre = current + pre, current\n",
    "        return current"
   ]
  }
 ],
 "metadata": {
  "kernelspec": {
   "display_name": "Python 3",
   "language": "python",
   "name": "python3"
  },
  "language_info": {
   "codemirror_mode": {
    "name": "ipython",
    "version": 3
   },
   "file_extension": ".py",
   "mimetype": "text/x-python",
   "name": "python",
   "nbconvert_exporter": "python",
   "pygments_lexer": "ipython3",
   "version": "3.8.5"
  }
 },
 "nbformat": 4,
 "nbformat_minor": 4
}
